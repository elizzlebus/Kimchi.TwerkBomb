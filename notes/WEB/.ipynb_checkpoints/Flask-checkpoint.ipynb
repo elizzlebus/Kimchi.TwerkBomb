{
 "cells": [
  {
   "cell_type": "markdown",
   "metadata": {},
   "source": [
    "# Flask Cookies\n",
    "Flask session data are sent as cookies to the client side and are not encrypted and can be decoded.\n",
    "\n",
    "### Decoding\n",
    "\n",
    "> The session cookie is not encrypted. It is json encoded, compressed, base64 encoded, and cryptographically signed. It uses the itsdangerous package to accomplish this. The session cookie is not meant to be convenient to read outside Flask. You could of course reverse this process (separate the signature, validate it, decode the payload, and decompress it). However, it would make more sense to let Flask do this, and just do the logging from the app.\n",
    "\n",
    "> For reference, the format of the cookie is:  \n",
    "* starts with . if the data is compressed (uses zlib)\n",
    "* data (base64 encoded, possibly compressed, json encoded)\n",
    "* . separates data and signature\n",
    "* signature (hmac by default)  \n",
    "\n",
    "*NOTE: Flask removes the padding from the base64 string, so add in \"===\" at the end.*\n",
    "\n",
    "### References\n",
    "1. [Flask user sessions](https://blog.miguelgrinberg.com/post/how-secure-is-the-flask-user-session)\n",
    "2. [Decrypting flask session cookies](https://stackoverflow.com/questions/32589998/apache-cookie-decrypt-flask-session)\n",
    "\n",
    "# File structure\n",
    "Flask runs off of an app.py or a main.py normally.\n",
    "\n",
    "# Examples\n",
    "1. 2017 Plaid CTF Web Pykemon : Uses flask cookies\n",
    "2. 2017 Google Misc mindreader"
   ]
  },
  {
   "cell_type": "code",
   "execution_count": null,
   "metadata": {
    "collapsed": true
   },
   "outputs": [],
   "source": []
  }
 ],
 "metadata": {
  "kernelspec": {
   "display_name": "Python 2",
   "language": "python",
   "name": "python2"
  },
  "language_info": {
   "codemirror_mode": {
    "name": "ipython",
    "version": 2
   },
   "file_extension": ".py",
   "mimetype": "text/x-python",
   "name": "python",
   "nbconvert_exporter": "python",
   "pygments_lexer": "ipython2",
   "version": "2.7.11"
  }
 },
 "nbformat": 4,
 "nbformat_minor": 0
}
