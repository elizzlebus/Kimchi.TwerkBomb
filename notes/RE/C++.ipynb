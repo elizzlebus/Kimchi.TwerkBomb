{
 "cells": [
  {
   "cell_type": "markdown",
   "metadata": {},
   "source": [
    "# Demangling names from the command line\n",
    "\n",
    "disassembler:\n",
    "\n",
    "`\n",
    "objdump -dr ./AClass.o | c++filt | less \n",
    "`\n",
    "\n",
    "list of symbols inside of the object file:\n",
    "\n",
    "`\n",
    "nm ./AClass.o | c++filt | less \n",
    "`"
   ]
  },
  {
   "cell_type": "code",
   "execution_count": null,
   "metadata": {},
   "outputs": [],
   "source": []
  }
 ],
 "metadata": {
  "kernelspec": {
   "display_name": "Python 3",
   "language": "python",
   "name": "python3"
  },
  "language_info": {
   "codemirror_mode": {
    "name": "ipython",
    "version": 3
   },
   "file_extension": ".py",
   "mimetype": "text/x-python",
   "name": "python",
   "nbconvert_exporter": "python",
   "pygments_lexer": "ipython3",
   "version": "3.6.3"
  }
 },
 "nbformat": 4,
 "nbformat_minor": 2
}
