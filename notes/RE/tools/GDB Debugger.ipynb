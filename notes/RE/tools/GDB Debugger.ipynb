{
 "cells": [
  {
   "cell_type": "markdown",
   "metadata": {},
   "source": [
    "# Table of Contents"
   ]
  },
  {
   "cell_type": "markdown",
   "metadata": {},
   "source": [
    "* [References](#References)\n",
    "* [Common Commands](#Common-Commands)\n",
    "* [GDB peda Installation](#GDB-peda-Installation)\n",
    "* [Examine Memory](#Examine-Memory)\n",
    "* [Dumping Memory](#Dumping-Memory)"
   ]
  },
  {
   "cell_type": "markdown",
   "metadata": {},
   "source": [
    "# References"
   ]
  },
  {
   "cell_type": "markdown",
   "metadata": {},
   "source": [
    "1. [Cheat Sheet](http://darkdust.net/files/GDB%20Cheat%20Sheet.pdf)"
   ]
  },
  {
   "cell_type": "markdown",
   "metadata": {},
   "source": [
    "# Common Commands"
   ]
  },
  {
   "cell_type": "markdown",
   "metadata": {},
   "source": [
    "```\n",
    "$ gdb <program>\n",
    " \n",
    "$ break main\n",
    "$ break *address\n",
    " \n",
    "$ layout asm\n",
    "$ layout regs\n",
    " \n",
    "$ focus next | prev | src | asm | regs | split\n",
    "# Set the focus to the named window. This command allows to change the\n",
    "# active window so that scrolling keys can be affected to another window.\n",
    " \n",
    "# to clear glitches in layout do\n",
    "$ tui disable\n",
    "$ tui enable\n",
    " \n",
    "$ run\n",
    " \n",
    "$ si # step instruction\n",
    "$ ni # step over function call (assembly)\n",
    " \n",
    "$ x/s $esi # print string esi is pointing to\n",
    "$ x/20xg $rsp # examine stack layout\n",
    " \n",
    "$ set $rip = 0x40060d\n",
    " \n",
    "# demangles C++ function calls\n",
    "$ set print asm-demangle on  #(default is off)\n",
    " \n",
    "$ watch *[ADDRESS]\n",
    "$ info breakpoints\n",
    "$ info watchpoints\n",
    "$ delete [WATCHPOINT_NUM | BREAKPOINT_NUM]\n",
    "$ rwatch *0xfeedface # break on read\n",
    " \n",
    "$ info functions [REGEX]\n",
    "$ break [FUNCTIONNAME] \n",
    "# also tells you the address its at...i dont know a better way to find the function location :(\n",
    " \n",
    " \n",
    "# running python commands\n",
    "$ py print(0x60)\n",
    "(gdb) py\n",
    ">import sys\n",
    ">print(sys.version)\n",
    ">end\n",
    " \n",
    " \n",
    "# Where you are on the stack\n",
    "$ where\n",
    " \n",
    "# calculator\n",
    "$ p 4 * 4\n",
    "$ p $r12 + $rbx * 8\n",
    " \n",
    " \n",
    "# force disassembly (good for shell code)\n",
    "$ x/10i $rip\n",
    "```"
   ]
  },
  {
   "cell_type": "markdown",
   "metadata": {
    "collapsed": true
   },
   "source": [
    "# GDB peda Installation"
   ]
  },
  {
   "cell_type": "markdown",
   "metadata": {},
   "source": [
    "The default version doesn't work with gdb compiled with Python3. I did find a [version](https://github.com/zachriggle/peda.git) that theoretically work with Python3 but had to change a lot of things and ended up not being worth it. "
   ]
  },
  {
   "cell_type": "markdown",
   "metadata": {},
   "source": [
    "Use the peda version from https://github.com/longld/peda.git to get a version that doesn't move the assembly code when you go to the next instruction."
   ]
  },
  {
   "cell_type": "markdown",
   "metadata": {},
   "source": [
    "This is worked for me:\n",
    "```bash\n",
    "sudo apt-get remove gdb\n",
    "wget http://security.ubuntu.com/ubuntu/pool/main/g/gdb/gdb_7.4-2012.02-0ubuntu2_amd64.deb\n",
    "sudo dpkg -i ./gdb_7.4-2012.02-0ubuntu2_amd64.deb\n",
    "```"
   ]
  },
  {
   "cell_type": "markdown",
   "metadata": {},
   "source": [
    "# Examine Memory"
   ]
  },
  {
   "cell_type": "markdown",
   "metadata": {},
   "source": [
    "[Reference](http://www.delorie.com/gnu/docs/gdb/gdb_56.html)"
   ]
  },
  {
   "cell_type": "markdown",
   "metadata": {},
   "source": [
    "x/nfu addr\n",
    "+ `n`, the repeat count\n",
    "+ `f`, the display format: `s` (null-terminated string), or `i` (machine instruction). The default is `x` (hexadecimal) initially. The default changes each time you use either `x` or print.\n",
    "+ `u`, the unit size: `b` – bytes, `h` – halfwords (2 bytes), `w` – words (4 bytes), `g` – giantwords (8 bytes)"
   ]
  },
  {
   "cell_type": "markdown",
   "metadata": {},
   "source": [
    "# Dumping Memory"
   ]
  },
  {
   "cell_type": "markdown",
   "metadata": {},
   "source": [
    "```\n",
    "# This will give you a plain binary dump int file result.bin.\n",
    "$ dump binary memory result.bin 0x200000000 0x20000c350\n",
    "$ dump binary memory comparison_array.bin $esi-28 ($esi-28+0x1000)\n",
    " \n",
    "# Easiest to turn into array\n",
    "$ dump verilog memory comparison_array.bin $esi-28 ($esi-28+0x1000)\n",
    "```"
   ]
  },
  {
   "cell_type": "markdown",
   "metadata": {
    "collapsed": true
   },
   "source": [
    "# Changing code in memory\n",
    "[Reference](http://mohit.io/blog/debugging-modifying-code-at-runtime/)\n",
    "```\n",
    "gdb-peda$ x/10i $rip\n",
    "=> 0x555555554b9e <_Z6decodePhi+116>:\tcmp    eax,0xf\n",
    "   0x555555554ba1 <_Z6decodePhi+119>:\tjle    0x555555554bc7 <_Z6decodePhi+157>\n",
    "gdb-peda$ x/10b 0x555555554ba1\n",
    "0x555555554ba1 <_Z6decodePhi+119>:\t0x7d\t0x24\n",
    "gdb-peda$ set *(char*)0x555555554ba1=0x7d\n",
    "gdb-peda$ x/10i $rip\n",
    "=> 0x555555554b9e <_Z6decodePhi+116>:\tcmp    eax,0xf\n",
    "   0x555555554ba1 <_Z6decodePhi+119>:\tjge    0x555555554bc7 <_Z6decodePhi+157>\n",
    "```"
   ]
  },
  {
   "cell_type": "code",
   "execution_count": null,
   "metadata": {},
   "outputs": [],
   "source": []
  }
 ],
 "metadata": {
  "kernelspec": {
   "display_name": "Python 3",
   "language": "python",
   "name": "python3"
  },
  "language_info": {
   "codemirror_mode": {
    "name": "ipython",
    "version": 3
   },
   "file_extension": ".py",
   "mimetype": "text/x-python",
   "name": "python",
   "nbconvert_exporter": "python",
   "pygments_lexer": "ipython3",
   "version": "3.6.4"
  }
 },
 "nbformat": 4,
 "nbformat_minor": 1
}
