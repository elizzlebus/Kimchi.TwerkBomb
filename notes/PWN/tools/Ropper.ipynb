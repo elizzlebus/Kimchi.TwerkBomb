{
 "cells": [
  {
   "cell_type": "markdown",
   "metadata": {},
   "source": [
    "# Reference\n",
    "1. [Installation](https://github.com/sashs/Ropper)\n",
    "\n",
    "   If during install you get an error 'raise ImportError(\"ERROR: fail to load the dynamic library.\")', run\n",
    "```\n",
    "$ sudo apt-get install python-capstone\n",
    "```"
   ]
  },
  {
   "cell_type": "markdown",
   "metadata": {},
   "source": [
    "# pop edi/rdi gadget\n",
    "```\n",
    "$ ropper --file scv --search \"pop ?di\"\n",
    "[INFO] Load gadgets from cache\n",
    "[LOAD] removing double gadgets... 100%\n",
    "[INFO] Searching for gadgets: pop ?di\n",
    "\n",
    "[INFO] File: scv\n",
    "0x0000000000400ea3: pop rdi; ret; \n",
    "```"
   ]
  },
  {
   "cell_type": "markdown",
   "metadata": {},
   "source": [
    "# searching for strings\n",
    "```\n",
    "$ ropper --file libc-2.23.so --string \"/bin/sh\"\n",
    "\n",
    "Strings\n",
    "=======\n",
    "\n",
    "Address     Value    \n",
    "-------     -----    \n",
    "0x0018cd17  /bin/sh\n",
    "```"
   ]
  },
  {
   "cell_type": "code",
   "execution_count": null,
   "metadata": {
    "collapsed": true
   },
   "outputs": [],
   "source": []
  }
 ],
 "metadata": {
  "kernelspec": {
   "display_name": "Python 2",
   "language": "python",
   "name": "python2"
  },
  "language_info": {
   "codemirror_mode": {
    "name": "ipython",
    "version": 2
   },
   "file_extension": ".py",
   "mimetype": "text/x-python",
   "name": "python",
   "nbconvert_exporter": "python",
   "pygments_lexer": "ipython2",
   "version": "2.7.11"
  }
 },
 "nbformat": 4,
 "nbformat_minor": 0
}
