{
 "cells": [
  {
   "cell_type": "markdown",
   "metadata": {},
   "source": [
    "# Guides\n",
    "1. [Stack frame layout](http://eli.thegreenplace.net/2011/09/06/stack-frame-layout-on-x86-64)"
   ]
  },
  {
   "cell_type": "markdown",
   "metadata": {
    "collapsed": true
   },
   "source": [
    "# Tools\n",
    "1. [Online Assembler/Disassembler](https://defuse.ca/online-x86-assembler.htm)\n",
    "2. [checksec](https://github.com/slimm609/checksec.sh)\n",
    "```\n",
    "$ ../../Tools/checksec.sh --file pilot\n",
    " RELRO           STACK CANARY      NX            PIE             RPATH      RUNPATH      FILE\n",
    " Partial RELRO   No canary found   NX disabled   No PIE          No RPATH   No RUNPATH   pilot\n",
    "```"
   ]
  },
  {
   "cell_type": "code",
   "execution_count": null,
   "metadata": {
    "collapsed": true
   },
   "outputs": [],
   "source": []
  }
 ],
 "metadata": {
  "kernelspec": {
   "display_name": "Python 3",
   "language": "python",
   "name": "python3"
  },
  "language_info": {
   "codemirror_mode": {
    "name": "ipython",
    "version": 3
   },
   "file_extension": ".py",
   "mimetype": "text/x-python",
   "name": "python",
   "nbconvert_exporter": "python",
   "pygments_lexer": "ipython3",
   "version": "3.6.3"
  }
 },
 "nbformat": 4,
 "nbformat_minor": 1
}
