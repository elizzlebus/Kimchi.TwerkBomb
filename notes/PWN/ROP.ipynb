{
 "cells": [
  {
   "cell_type": "markdown",
   "metadata": {},
   "source": [
    "# References\n",
    "[32-bit basic ROP attack](https://teamrocketist.github.io/2017/09/25/Pwn-BackdoorCTF-2017-Justdoit/)"
   ]
  },
  {
   "cell_type": "markdown",
   "metadata": {},
   "source": [
    "# PLT/GOT"
   ]
  },
  {
   "cell_type": "markdown",
   "metadata": {},
   "source": [
    "> just remember if you want to jump and execute a function from libc you jump into PLT but if you want to leak an address from libc you get the value from the GOT address."
   ]
  },
  {
   "cell_type": "markdown",
   "metadata": {},
   "source": [
    "# 32-bit vs 64-bit\n",
    "\n",
    "For 64-bit binaries, arguments go into registers first so you have to pop the stack address into specific registers. For 32-bit, you can put it on the stack.\n"
   ]
  },
  {
   "cell_type": "markdown",
   "metadata": {},
   "source": [
    "# Where's the libc library?\n",
    "```\n",
    "find /lib -name libc.so.6\n",
    "```"
   ]
  },
  {
   "cell_type": "markdown",
   "metadata": {},
   "source": [
    "# Which libc is the binary using?\n",
    "```\n",
    "ldd [BINARY]\n",
    "```"
   ]
  },
  {
   "cell_type": "markdown",
   "metadata": {},
   "source": [
    "If it's statically linked use [libc-database](https://github.com/niklasb/libc-database)"
   ]
  },
  {
   "cell_type": "markdown",
   "metadata": {},
   "source": [
    "# Find address of a string or opcode\n",
    "```\n",
    "strings -a -t x /lib/i386-linux-gnu/libc.so.6 | grep '/bin/sh'\n",
    "\n",
    "ropper --file libc-2.23.so --string \"/bin/sh\"\n",
    "\n",
    "```"
   ]
  },
  {
   "cell_type": "code",
   "execution_count": null,
   "metadata": {},
   "outputs": [],
   "source": [
    "from pwn import *\n",
    "libc = ELF(\"/lib/i386-linux-gnu/libc.so.6\")\n",
    "\n",
    "LIBC_BINSH_ADDRESS = next(libc.search('/bin/sh\\x00'))"
   ]
  },
  {
   "cell_type": "code",
   "execution_count": null,
   "metadata": {},
   "outputs": [],
   "source": []
  }
 ],
 "metadata": {
  "kernelspec": {
   "display_name": "Python 3",
   "language": "python",
   "name": "python3"
  },
  "language_info": {
   "codemirror_mode": {
    "name": "ipython",
    "version": 3
   },
   "file_extension": ".py",
   "mimetype": "text/x-python",
   "name": "python",
   "nbconvert_exporter": "python",
   "pygments_lexer": "ipython3",
   "version": "3.6.3"
  }
 },
 "nbformat": 4,
 "nbformat_minor": 2
}
